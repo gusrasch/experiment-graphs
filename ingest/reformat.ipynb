{
 "cells": [
  {
   "cell_type": "code",
   "execution_count": 6,
   "id": "96257c05-bfdc-4ef7-bafb-87216e355cfa",
   "metadata": {},
   "outputs": [],
   "source": [
    "import json\n",
    "import os"
   ]
  },
  {
   "cell_type": "code",
   "execution_count": 7,
   "id": "035bc0f5-4392-4def-a129-349eae20db79",
   "metadata": {},
   "outputs": [],
   "source": [
    "dirpath = os.path.join(\"data\",\"source\")\n",
    "raw_files = os.listdir(dirpath)"
   ]
  },
  {
   "cell_type": "code",
   "execution_count": 8,
   "id": "eacee186-dcfb-405a-b13e-d399c6111dd6",
   "metadata": {},
   "outputs": [],
   "source": [
    "all_keys = []"
   ]
  },
  {
   "cell_type": "code",
   "execution_count": 12,
   "id": "4c4c1f2b-97bb-4ba0-996b-72a34bb55fac",
   "metadata": {},
   "outputs": [
    {
     "ename": "KeyboardInterrupt",
     "evalue": "",
     "output_type": "error",
     "traceback": [
      "\u001b[0;31m---------------------------------------------------------------------------\u001b[0m",
      "\u001b[0;31mKeyboardInterrupt\u001b[0m                         Traceback (most recent call last)",
      "Cell \u001b[0;32mIn[12]\u001b[0m\n\u001b[1;32m      0\u001b[0m <Error retrieving source code with stack_data see ipython/ipython#13598>\n",
      "\u001b[0;31mKeyboardInterrupt\u001b[0m: "
     ]
    }
   ],
   "source": [
    "for filename in raw_files[:10]:\n",
    "    with open(os.path.join(dirpath, filename)) as f:\n",
    "        messages = json.load(f)\n",
    "        for message in messages:\n",
    "            for key in message.keys():\n",
    "                if key not in all_keys:\n",
    "                    all_keys += key\n",
    "\n",
    "print(all_keys)"
   ]
  },
  {
   "cell_type": "code",
   "execution_count": 3,
   "id": "5aa19aef-3dfb-47f1-bdc4-1b7113f2375e",
   "metadata": {},
   "outputs": [],
   "source": [
    "# for rawfile in raw_files:\n",
    "#     with open(os.path.join(\"data\",\"with_messages_key\",rawfile)) as f:\n",
    "#         contents = json.load(f)\n",
    "#         messages = contents['messages']\n",
    "#         with open(os.path.join(\"data\", rawfile), \"w+\") as wf:\n",
    "#             json.dump(messages, wf)\n",
    "#             print(f\"did {rawfile}\")"
   ]
  },
  {
   "cell_type": "code",
   "execution_count": null,
   "id": "fdcae9e7-36ce-4225-bf8f-513a98508230",
   "metadata": {},
   "outputs": [],
   "source": []
  }
 ],
 "metadata": {
  "kernelspec": {
   "display_name": "Python 3 (ipykernel)",
   "language": "python",
   "name": "python3"
  },
  "language_info": {
   "codemirror_mode": {
    "name": "ipython",
    "version": 3
   },
   "file_extension": ".py",
   "mimetype": "text/x-python",
   "name": "python",
   "nbconvert_exporter": "python",
   "pygments_lexer": "ipython3",
   "version": "3.11.9"
  }
 },
 "nbformat": 4,
 "nbformat_minor": 5
}
